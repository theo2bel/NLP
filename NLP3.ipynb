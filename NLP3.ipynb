{
 "cells": [
  {
   "cell_type": "code",
   "execution_count": 7,
   "id": "855f8e33",
   "metadata": {
    "scrolled": true
   },
   "outputs": [
    {
     "name": "stdout",
     "output_type": "stream",
     "text": [
      "Found 2000 files belonging to 2 classes.\n",
      "Using 1600 files for training.\n",
      "Found 2000 files belonging to 2 classes.\n",
      "Using 400 files for validation.\n"
     ]
    },
    {
     "name": "stderr",
     "output_type": "stream",
     "text": [
      "2023-10-27 18:42:19.651506: I tensorflow/core/common_runtime/executor.cc:1197] [/device:CPU:0] (DEBUG INFO) Executor start aborting (this does not indicate an error and you can ignore this message): INVALID_ARGUMENT: You must feed a value for placeholder tensor 'Placeholder/_4' with dtype int32 and shape [1600]\n",
      "\t [[{{node Placeholder/_4}}]]\n",
      "2023-10-27 18:42:19.651735: I tensorflow/core/common_runtime/executor.cc:1197] [/device:CPU:0] (DEBUG INFO) Executor start aborting (this does not indicate an error and you can ignore this message): INVALID_ARGUMENT: You must feed a value for placeholder tensor 'Placeholder/_0' with dtype string and shape [1600]\n",
      "\t [[{{node Placeholder/_0}}]]\n"
     ]
    },
    {
     "name": "stdout",
     "output_type": "stream",
     "text": [
      "Epoch 1/50\n"
     ]
    },
    {
     "name": "stderr",
     "output_type": "stream",
     "text": [
      "2023-10-27 18:42:19.907943: I tensorflow/core/common_runtime/executor.cc:1197] [/device:CPU:0] (DEBUG INFO) Executor start aborting (this does not indicate an error and you can ignore this message): INVALID_ARGUMENT: You must feed a value for placeholder tensor 'Placeholder/_4' with dtype int32 and shape [1600]\n",
      "\t [[{{node Placeholder/_4}}]]\n",
      "2023-10-27 18:42:19.908145: I tensorflow/core/common_runtime/executor.cc:1197] [/device:CPU:0] (DEBUG INFO) Executor start aborting (this does not indicate an error and you can ignore this message): INVALID_ARGUMENT: You must feed a value for placeholder tensor 'Placeholder/_4' with dtype int32 and shape [1600]\n",
      "\t [[{{node Placeholder/_4}}]]\n"
     ]
    },
    {
     "name": "stdout",
     "output_type": "stream",
     "text": [
      "50/50 [==============================] - 1s 7ms/step - loss: 0.6929 - accuracy: 0.5006 - val_loss: 0.6921 - val_accuracy: 0.5025\n",
      "Epoch 2/50\n",
      "13/50 [======>.......................] - ETA: 0s - loss: 0.6906 - accuracy: 0.5072"
     ]
    },
    {
     "name": "stderr",
     "output_type": "stream",
     "text": [
      "2023-10-27 18:42:20.513280: I tensorflow/core/common_runtime/executor.cc:1197] [/device:CPU:0] (DEBUG INFO) Executor start aborting (this does not indicate an error and you can ignore this message): INVALID_ARGUMENT: You must feed a value for placeholder tensor 'Placeholder/_4' with dtype int32 and shape [400]\n",
      "\t [[{{node Placeholder/_4}}]]\n",
      "2023-10-27 18:42:20.513523: I tensorflow/core/common_runtime/executor.cc:1197] [/device:CPU:0] (DEBUG INFO) Executor start aborting (this does not indicate an error and you can ignore this message): INVALID_ARGUMENT: You must feed a value for placeholder tensor 'Placeholder/_4' with dtype int32 and shape [400]\n",
      "\t [[{{node Placeholder/_4}}]]\n"
     ]
    },
    {
     "name": "stdout",
     "output_type": "stream",
     "text": [
      "50/50 [==============================] - 0s 5ms/step - loss: 0.6895 - accuracy: 0.5638 - val_loss: 0.6886 - val_accuracy: 0.6175\n",
      "Epoch 3/50\n",
      "50/50 [==============================] - 0s 5ms/step - loss: 0.6796 - accuracy: 0.7200 - val_loss: 0.6797 - val_accuracy: 0.7025\n",
      "Epoch 4/50\n",
      "50/50 [==============================] - 0s 5ms/step - loss: 0.6549 - accuracy: 0.8294 - val_loss: 0.6616 - val_accuracy: 0.7375\n",
      "Epoch 5/50\n",
      "50/50 [==============================] - 0s 5ms/step - loss: 0.6110 - accuracy: 0.8569 - val_loss: 0.6346 - val_accuracy: 0.7750\n",
      "Epoch 6/50\n",
      "50/50 [==============================] - 0s 5ms/step - loss: 0.5495 - accuracy: 0.8906 - val_loss: 0.6031 - val_accuracy: 0.7600\n",
      "Epoch 7/50\n",
      "50/50 [==============================] - 0s 5ms/step - loss: 0.4756 - accuracy: 0.9187 - val_loss: 0.5700 - val_accuracy: 0.7525\n",
      "Epoch 8/50\n",
      "50/50 [==============================] - 0s 5ms/step - loss: 0.3985 - accuracy: 0.9325 - val_loss: 0.5385 - val_accuracy: 0.7725\n",
      "Epoch 9/50\n",
      "50/50 [==============================] - 0s 5ms/step - loss: 0.3259 - accuracy: 0.9531 - val_loss: 0.5158 - val_accuracy: 0.7750\n",
      "Epoch 10/50\n",
      "50/50 [==============================] - 0s 5ms/step - loss: 0.2641 - accuracy: 0.9644 - val_loss: 0.5004 - val_accuracy: 0.7775\n",
      "Epoch 11/50\n",
      "50/50 [==============================] - 0s 5ms/step - loss: 0.2119 - accuracy: 0.9756 - val_loss: 0.4898 - val_accuracy: 0.7850\n",
      "Epoch 12/50\n",
      "50/50 [==============================] - 0s 5ms/step - loss: 0.1709 - accuracy: 0.9862 - val_loss: 0.4872 - val_accuracy: 0.7825\n",
      "Epoch 13/50\n",
      "50/50 [==============================] - 0s 5ms/step - loss: 0.1375 - accuracy: 0.9906 - val_loss: 0.4868 - val_accuracy: 0.7775\n",
      "Epoch 14/50\n",
      "50/50 [==============================] - 0s 5ms/step - loss: 0.1113 - accuracy: 0.9931 - val_loss: 0.4875 - val_accuracy: 0.7800\n",
      "Epoch 15/50\n",
      "50/50 [==============================] - 0s 5ms/step - loss: 0.0897 - accuracy: 0.9956 - val_loss: 0.4908 - val_accuracy: 0.7850\n",
      "Epoch 16/50\n",
      "50/50 [==============================] - 0s 5ms/step - loss: 0.0732 - accuracy: 0.9975 - val_loss: 0.4975 - val_accuracy: 0.7825\n",
      "Epoch 17/50\n",
      "50/50 [==============================] - 0s 5ms/step - loss: 0.0603 - accuracy: 1.0000 - val_loss: 0.5068 - val_accuracy: 0.7650\n",
      "Epoch 18/50\n",
      "50/50 [==============================] - 0s 5ms/step - loss: 0.0494 - accuracy: 1.0000 - val_loss: 0.5119 - val_accuracy: 0.7825\n",
      "Epoch 19/50\n",
      "50/50 [==============================] - 0s 6ms/step - loss: 0.0413 - accuracy: 1.0000 - val_loss: 0.5196 - val_accuracy: 0.7800\n",
      "Epoch 20/50\n",
      "50/50 [==============================] - 0s 5ms/step - loss: 0.0348 - accuracy: 1.0000 - val_loss: 0.5286 - val_accuracy: 0.7800\n",
      "Epoch 21/50\n",
      "50/50 [==============================] - 0s 5ms/step - loss: 0.0293 - accuracy: 1.0000 - val_loss: 0.5362 - val_accuracy: 0.7775\n",
      "Epoch 22/50\n",
      "50/50 [==============================] - 0s 5ms/step - loss: 0.0254 - accuracy: 1.0000 - val_loss: 0.5445 - val_accuracy: 0.7725\n",
      "Epoch 23/50\n",
      "50/50 [==============================] - 0s 5ms/step - loss: 0.0217 - accuracy: 1.0000 - val_loss: 0.5527 - val_accuracy: 0.7725\n",
      "Epoch 24/50\n",
      "50/50 [==============================] - 0s 5ms/step - loss: 0.0188 - accuracy: 1.0000 - val_loss: 0.5603 - val_accuracy: 0.7725\n",
      "Epoch 25/50\n",
      "50/50 [==============================] - 0s 5ms/step - loss: 0.0165 - accuracy: 1.0000 - val_loss: 0.5679 - val_accuracy: 0.7700\n",
      "Epoch 26/50\n",
      "50/50 [==============================] - 0s 5ms/step - loss: 0.0146 - accuracy: 1.0000 - val_loss: 0.5758 - val_accuracy: 0.7700\n",
      "Epoch 27/50\n",
      "50/50 [==============================] - 0s 5ms/step - loss: 0.0129 - accuracy: 1.0000 - val_loss: 0.5828 - val_accuracy: 0.7675\n",
      "Epoch 28/50\n",
      "50/50 [==============================] - 0s 6ms/step - loss: 0.0115 - accuracy: 1.0000 - val_loss: 0.5906 - val_accuracy: 0.7700\n",
      "Epoch 29/50\n",
      "50/50 [==============================] - 0s 6ms/step - loss: 0.0103 - accuracy: 1.0000 - val_loss: 0.5980 - val_accuracy: 0.7725\n",
      "Epoch 30/50\n",
      "50/50 [==============================] - 0s 5ms/step - loss: 0.0093 - accuracy: 1.0000 - val_loss: 0.6052 - val_accuracy: 0.7750\n",
      "Epoch 31/50\n",
      "50/50 [==============================] - 0s 5ms/step - loss: 0.0083 - accuracy: 1.0000 - val_loss: 0.6111 - val_accuracy: 0.7675\n",
      "Epoch 32/50\n",
      "50/50 [==============================] - 0s 5ms/step - loss: 0.0076 - accuracy: 1.0000 - val_loss: 0.6179 - val_accuracy: 0.7675\n",
      "Epoch 33/50\n",
      "50/50 [==============================] - 0s 5ms/step - loss: 0.0069 - accuracy: 1.0000 - val_loss: 0.6248 - val_accuracy: 0.7725\n",
      "Epoch 34/50\n",
      "50/50 [==============================] - 0s 5ms/step - loss: 0.0063 - accuracy: 1.0000 - val_loss: 0.6305 - val_accuracy: 0.7700\n",
      "Epoch 35/50\n",
      "50/50 [==============================] - 0s 5ms/step - loss: 0.0058 - accuracy: 1.0000 - val_loss: 0.6364 - val_accuracy: 0.7725\n",
      "Epoch 36/50\n",
      "50/50 [==============================] - 0s 5ms/step - loss: 0.0053 - accuracy: 1.0000 - val_loss: 0.6431 - val_accuracy: 0.7700\n",
      "Epoch 37/50\n",
      "50/50 [==============================] - 0s 6ms/step - loss: 0.0049 - accuracy: 1.0000 - val_loss: 0.6490 - val_accuracy: 0.7700\n",
      "Epoch 38/50\n",
      "50/50 [==============================] - 0s 6ms/step - loss: 0.0045 - accuracy: 1.0000 - val_loss: 0.6544 - val_accuracy: 0.7725\n",
      "Epoch 39/50\n",
      "50/50 [==============================] - 0s 5ms/step - loss: 0.0042 - accuracy: 1.0000 - val_loss: 0.6598 - val_accuracy: 0.7725\n",
      "Epoch 40/50\n",
      "50/50 [==============================] - 0s 6ms/step - loss: 0.0039 - accuracy: 1.0000 - val_loss: 0.6653 - val_accuracy: 0.7725\n",
      "Epoch 41/50\n",
      "50/50 [==============================] - 0s 5ms/step - loss: 0.0036 - accuracy: 1.0000 - val_loss: 0.6706 - val_accuracy: 0.7725\n",
      "Epoch 42/50\n",
      "50/50 [==============================] - 0s 6ms/step - loss: 0.0033 - accuracy: 1.0000 - val_loss: 0.6753 - val_accuracy: 0.7725\n",
      "Epoch 43/50\n",
      "50/50 [==============================] - 0s 6ms/step - loss: 0.0031 - accuracy: 1.0000 - val_loss: 0.6803 - val_accuracy: 0.7750\n",
      "Epoch 44/50\n",
      "50/50 [==============================] - 0s 6ms/step - loss: 0.0029 - accuracy: 1.0000 - val_loss: 0.6860 - val_accuracy: 0.7725\n",
      "Epoch 45/50\n",
      "50/50 [==============================] - 0s 6ms/step - loss: 0.0027 - accuracy: 1.0000 - val_loss: 0.6910 - val_accuracy: 0.7700\n",
      "Epoch 46/50\n",
      "50/50 [==============================] - 0s 6ms/step - loss: 0.0026 - accuracy: 1.0000 - val_loss: 0.6957 - val_accuracy: 0.7725\n",
      "Epoch 47/50\n",
      "50/50 [==============================] - 0s 5ms/step - loss: 0.0024 - accuracy: 1.0000 - val_loss: 0.7002 - val_accuracy: 0.7725\n",
      "Epoch 48/50\n",
      "50/50 [==============================] - 0s 5ms/step - loss: 0.0023 - accuracy: 1.0000 - val_loss: 0.7046 - val_accuracy: 0.7750\n",
      "Epoch 49/50\n",
      "50/50 [==============================] - 0s 5ms/step - loss: 0.0021 - accuracy: 1.0000 - val_loss: 0.7099 - val_accuracy: 0.7700\n",
      "Epoch 50/50\n",
      "50/50 [==============================] - 0s 6ms/step - loss: 0.0020 - accuracy: 1.0000 - val_loss: 0.7135 - val_accuracy: 0.7750\n"
     ]
    },
    {
     "data": {
      "text/plain": [
       "<keras.callbacks.History at 0x7fbc94794690>"
      ]
     },
     "execution_count": 7,
     "metadata": {},
     "output_type": "execute_result"
    }
   ],
   "source": [
    "import tensorflow as tf\n",
    "from tensorflow import keras\n",
    "from tensorflow.keras.layers.experimental.preprocessing import TextVectorization\n",
    "\n",
    "# Define data directories\n",
    "data_dir = '/home/theo2bel/Documents/A5/NLP/PW4/review_polarity/txt_sentoken'\n",
    "batch_size = 32\n",
    "\n",
    "# Load and preprocess the dataset\n",
    "raw_train_ds = tf.keras.utils.text_dataset_from_directory(\n",
    "    data_dir,\n",
    "    batch_size=batch_size,\n",
    "    validation_split=0.2,\n",
    "    subset=\"training\",\n",
    "    seed=1337,\n",
    ")\n",
    "\n",
    "raw_val_ds = tf.keras.utils.text_dataset_from_directory(\n",
    "    data_dir,\n",
    "    batch_size=batch_size,\n",
    "    validation_split=0.2,\n",
    "    subset=\"validation\",\n",
    "    seed=1337,\n",
    ")\n",
    "\n",
    "# Text preprocessing and vectorization\n",
    "max_features = 10000\n",
    "sequence_length = 250\n",
    "\n",
    "vectorize_layer = TextVectorization(\n",
    "    max_tokens=max_features,\n",
    "    output_mode=\"int\",\n",
    "    output_sequence_length=sequence_length,\n",
    ")\n",
    "vectorize_layer.adapt(raw_train_ds.map(lambda text, label: text))\n",
    "\n",
    "# Create the model\n",
    "model = keras.Sequential([\n",
    "    vectorize_layer,\n",
    "    keras.layers.Embedding(max_features + 1, 16),\n",
    "    keras.layers.GlobalAveragePooling1D(),\n",
    "    keras.layers.Dense(16, activation='relu'),\n",
    "    keras.layers.Dense(1, activation='sigmoid')  # Binary classification output\n",
    "])\n",
    "\n",
    "# Compile the model\n",
    "model.compile(\n",
    "    loss=keras.losses.BinaryCrossentropy(),\n",
    "    optimizer='adam',\n",
    "    metrics=['accuracy']\n",
    ")\n",
    "\n",
    "# Train the model\n",
    "epochs = 50\n",
    "model.fit(raw_train_ds, validation_data=raw_val_ds, epochs=epochs)\n",
    "\n"
   ]
  },
  {
   "cell_type": "code",
   "execution_count": 9,
   "id": "f3876abb",
   "metadata": {
    "scrolled": true
   },
   "outputs": [
    {
     "name": "stdout",
     "output_type": "stream",
     "text": [
      "Epoch 1/10\n"
     ]
    },
    {
     "name": "stderr",
     "output_type": "stream",
     "text": [
      "/home/theo2bel/.local/lib/python3.11/site-packages/keras/backend.py:5703: UserWarning: \"`binary_crossentropy` received `from_logits=True`, but the `output` argument was produced by a Sigmoid activation and thus does not represent logits. Was this intended?\n",
      "  output, from_logits = _get_logits(\n"
     ]
    },
    {
     "name": "stdout",
     "output_type": "stream",
     "text": [
      "50/50 [==============================] - 1s 6ms/step - loss: 0.0019 - accuracy: 1.0000 - val_loss: 0.7137 - val_accuracy: 0.7750\n",
      "Epoch 2/10\n",
      "50/50 [==============================] - 0s 5ms/step - loss: 0.0019 - accuracy: 1.0000 - val_loss: 0.7140 - val_accuracy: 0.7750\n",
      "Epoch 3/10\n",
      "50/50 [==============================] - 0s 5ms/step - loss: 0.0019 - accuracy: 1.0000 - val_loss: 0.7142 - val_accuracy: 0.7750\n",
      "Epoch 4/10\n",
      "50/50 [==============================] - 0s 5ms/step - loss: 0.0019 - accuracy: 1.0000 - val_loss: 0.7144 - val_accuracy: 0.7725\n",
      "Epoch 5/10\n",
      "50/50 [==============================] - 0s 5ms/step - loss: 0.0019 - accuracy: 1.0000 - val_loss: 0.7146 - val_accuracy: 0.7725\n",
      "Epoch 6/10\n",
      "50/50 [==============================] - 0s 5ms/step - loss: 0.0019 - accuracy: 1.0000 - val_loss: 0.7147 - val_accuracy: 0.7725\n",
      "Epoch 7/10\n",
      "50/50 [==============================] - 0s 5ms/step - loss: 0.0019 - accuracy: 1.0000 - val_loss: 0.7149 - val_accuracy: 0.7725\n",
      "Epoch 8/10\n",
      "50/50 [==============================] - 0s 5ms/step - loss: 0.0019 - accuracy: 1.0000 - val_loss: 0.7151 - val_accuracy: 0.7725\n",
      "Epoch 9/10\n",
      "50/50 [==============================] - 0s 5ms/step - loss: 0.0019 - accuracy: 1.0000 - val_loss: 0.7153 - val_accuracy: 0.7700\n",
      "Epoch 10/10\n",
      "50/50 [==============================] - 0s 5ms/step - loss: 0.0019 - accuracy: 1.0000 - val_loss: 0.7154 - val_accuracy: 0.7700\n"
     ]
    },
    {
     "data": {
      "text/plain": [
       "<keras.callbacks.History at 0x7fbc94640510>"
      ]
     },
     "execution_count": 9,
     "metadata": {},
     "output_type": "execute_result"
    }
   ],
   "source": [
    "loss_fn = tf.keras.losses.BinaryCrossentropy(from_logits=True)\n",
    "sgd_optimizer = tf.keras.optimizers.SGD(learning_rate=0.01)  # You can adjust the learning rate\n",
    "model.compile(optimizer=sgd_optimizer, loss=loss_fn, metrics=['accuracy'])\n",
    "model.fit(raw_train_ds, validation_data=raw_val_ds, epochs=10)\n"
   ]
  },
  {
   "cell_type": "code",
   "execution_count": null,
   "id": "8bcf306a",
   "metadata": {},
   "outputs": [],
   "source": [
    "acc = history_dict['binary_accuracy']\n",
    "val_acc = history_dict['val_binary_accuracy']\n",
    "loss = history_dict['loss']\n",
    "val_loss = history_dict['val_loss']\n",
    "\n",
    "epochs = range(1, len(acc) + 1)\n",
    "\n",
    "# \"bo\" is for \"blue dot\"\n",
    "plt.plot(epochs, loss, 'bo', label='Training loss')\n",
    "# b is for \"solid blue line\"\n",
    "plt.plot(epochs, val_loss, 'b', label='Validation loss')\n",
    "plt.title('Training and validation loss')\n",
    "plt.xlabel('Epochs')\n",
    "plt.ylabel('Loss')\n",
    "plt.legend()\n",
    "\n",
    "plt.show()"
   ]
  },
  {
   "cell_type": "code",
   "execution_count": null,
   "id": "18e3c850",
   "metadata": {},
   "outputs": [],
   "source": []
  },
  {
   "cell_type": "code",
   "execution_count": null,
   "id": "4c8c4dcc",
   "metadata": {},
   "outputs": [],
   "source": []
  },
  {
   "cell_type": "code",
   "execution_count": null,
   "id": "70ff7702",
   "metadata": {},
   "outputs": [],
   "source": [
    "# Evaluate the model\n",
    "test_pos_data_dir = 'path/to/positive/test/dataset'\n",
    "test_neg_data_dir = 'path/to/negative/test/dataset'\n",
    "\n",
    "raw_test_pos_ds = tf.keras.utils.text_dataset_from_directory(test_pos_data_dir, batch_size=batch_size)\n",
    "raw_test_neg_ds = tf.keras.utils.text_dataset_from_directory(test_neg_data_dir, batch_size=batch_size)\n",
    "\n",
    "raw_test_ds = raw_test_pos_ds.concatenate(raw_test_neg_ds)\n",
    "\n",
    "test_loss, test_accuracy = model.evaluate(raw_test_ds)\n",
    "print(f\"Test accuracy: {test_accuracy}\")\n",
    "\n",
    "# Make predictions on new data\n",
    "new_data = [\"This movie was terrible!\", \"I loved this film!\"]\n",
    "predictions = model.predict(new_data)\n",
    "for text, score in zip(new_data, predictions):\n",
    "    sentiment = \"Positive\" if score > 0.5 else \"Negative\"\n",
    "    print(f\"Text: {text}\\nSentiment: {sentiment}\\n\")\n"
   ]
  },
  {
   "cell_type": "code",
   "execution_count": null,
   "id": "64a1d38e",
   "metadata": {},
   "outputs": [],
   "source": []
  },
  {
   "cell_type": "code",
   "execution_count": null,
   "id": "3fa31007",
   "metadata": {},
   "outputs": [],
   "source": []
  },
  {
   "cell_type": "code",
   "execution_count": null,
   "id": "385c55f5",
   "metadata": {},
   "outputs": [],
   "source": []
  },
  {
   "cell_type": "code",
   "execution_count": null,
   "id": "96b085b8",
   "metadata": {},
   "outputs": [],
   "source": []
  },
  {
   "cell_type": "code",
   "execution_count": 5,
   "id": "17cf6ab6",
   "metadata": {
    "collapsed": true
   },
   "outputs": [
    {
     "ename": "SyntaxError",
     "evalue": "invalid decimal literal (3303626091.py, line 19)",
     "output_type": "error",
     "traceback": [
      "\u001b[0;36m  Cell \u001b[0;32mIn[5], line 19\u001b[0;36m\u001b[0m\n\u001b[0;31m    raw_test_ds = raw_val_ds.take((1val_batches) // 3)\u001b[0m\n\u001b[0m                                   ^\u001b[0m\n\u001b[0;31mSyntaxError\u001b[0m\u001b[0;31m:\u001b[0m invalid decimal literal\n"
     ]
    }
   ],
   "source": [
    "batch_size = 32\n",
    "seed = 42\n",
    "\n",
    "raw_train_ds = tf.keras.utils.text_dataset_from_directory(\n",
    "    '/home/theo2bel/Documents/A5/NLP/PW4/review_polarity/txt_sentoken', \n",
    "    batch_size=batch_size, \n",
    "    validation_split=0.3, \n",
    "    subset='training',\n",
    "    seed=seed)\n",
    "\n",
    "raw_val_ds = tf.keras.utils.text_dataset_from_directory(\n",
    "    '/home/theo2bel/Documents/A5/NLP/PW4/review_polarity/txt_sentoken', \n",
    "    batch_size=batch_size, \n",
    "    validation_split=0.3, \n",
    "    subset='validation',\n",
    "    seed=seed)\n",
    "\n",
    "val_batches = tf.data.experimental.cardinality(raw_val_ds)\n",
    "raw_test_ds = raw_val_ds.take((1val_batches) // 3)\n",
    "raw_val_ds = raw_val_ds.skip((1val_batches) // 3)\n",
    "\n",
    "print(\"train :{}\".format(len(raw_train_ds)*batch_size))\n",
    "print(\"val :{}\".format(len(raw_val_ds)*batch_size))\n",
    "print(\"test :{}\".format(len(raw_test_ds)*batch_size))"
   ]
  },
  {
   "cell_type": "code",
   "execution_count": null,
   "id": "510a210c",
   "metadata": {},
   "outputs": [],
   "source": []
  }
 ],
 "metadata": {
  "kernelspec": {
   "display_name": "Python 3 (ipykernel)",
   "language": "python",
   "name": "python3"
  },
  "language_info": {
   "codemirror_mode": {
    "name": "ipython",
    "version": 3
   },
   "file_extension": ".py",
   "mimetype": "text/x-python",
   "name": "python",
   "nbconvert_exporter": "python",
   "pygments_lexer": "ipython3",
   "version": "3.11.6"
  }
 },
 "nbformat": 4,
 "nbformat_minor": 5
}
